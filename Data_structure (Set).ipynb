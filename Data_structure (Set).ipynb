{
 "cells": [
  {
   "cell_type": "markdown",
   "id": "110a1bd7-4968-458a-901b-7f31663ee8bc",
   "metadata": {},
   "source": [
    "# Set"
   ]
  },
  {
   "cell_type": "markdown",
   "id": "b2a2ba88-192c-4160-8d14-aa2e7382d037",
   "metadata": {},
   "source": [
    "a data structure that can have one or more members in it. \n",
    "- Set don't have coordinates/indexes for each member\n",
    "- Set cannot have more than one member with the same value\n",
    "- Set are written with curly brackets {}"
   ]
  },
  {
   "cell_type": "code",
   "execution_count": 1,
   "id": "aa64ee3b-b5d7-4133-9345-f86ba5f4bf36",
   "metadata": {},
   "outputs": [],
   "source": [
    "a = {3, 2, 1, 4, 4, 1, 3, 2, 1, 6, 6, 7 }"
   ]
  },
  {
   "cell_type": "code",
   "execution_count": 2,
   "id": "62cba90c-74b8-4d83-895c-3f5d4f705f20",
   "metadata": {},
   "outputs": [
    {
     "name": "stdout",
     "output_type": "stream",
     "text": [
      "{1, 2, 3, 4, 6, 7}\n"
     ]
    }
   ],
   "source": [
    "print (a)"
   ]
  },
  {
   "cell_type": "markdown",
   "id": "3bb90d96-0613-4c55-9964-b05ea2667498",
   "metadata": {},
   "source": [
    "### - Access Set Members"
   ]
  },
  {
   "cell_type": "markdown",
   "id": "8ab6af37-38e7-44a8-b68a-0197a92041b8",
   "metadata": {},
   "source": [
    "Set don't have coordinates/indexes for each member. Can not access members using indexes such as lists or tuples."
   ]
  },
  {
   "cell_type": "code",
   "execution_count": 3,
   "id": "f934af6f-e6bc-478e-bc9b-f6331d18f596",
   "metadata": {},
   "outputs": [
    {
     "ename": "TypeError",
     "evalue": "'set' object is not subscriptable",
     "output_type": "error",
     "traceback": [
      "\u001b[1;31m---------------------------------------------------------------------------\u001b[0m",
      "\u001b[1;31mTypeError\u001b[0m                                 Traceback (most recent call last)",
      "Cell \u001b[1;32mIn[3], line 1\u001b[0m\n\u001b[1;32m----> 1\u001b[0m \u001b[38;5;28mprint\u001b[39m (a[\u001b[38;5;241m1\u001b[39m])\n",
      "\u001b[1;31mTypeError\u001b[0m: 'set' object is not subscriptable"
     ]
    }
   ],
   "source": [
    "print (a[1]) "
   ]
  },
  {
   "cell_type": "markdown",
   "id": "1fc3eb34-8fef-4b00-9a67-866d62aa1b33",
   "metadata": {},
   "source": [
    "### - Remove or Delete Set Members"
   ]
  },
  {
   "cell_type": "code",
   "execution_count": 4,
   "id": "fab3c1df-d0d4-4ef0-b2f5-f82e02704d05",
   "metadata": {},
   "outputs": [
    {
     "name": "stdout",
     "output_type": "stream",
     "text": [
      "{1, 2, 3, 6, 7}\n"
     ]
    }
   ],
   "source": [
    "#using discard()\n",
    "a.discard(4)\n",
    "print(a)"
   ]
  },
  {
   "cell_type": "code",
   "execution_count": 5,
   "id": "1d12805e-3136-4834-9285-bb37ffd83165",
   "metadata": {},
   "outputs": [
    {
     "name": "stdout",
     "output_type": "stream",
     "text": [
      "{2, 3, 6, 7}\n"
     ]
    }
   ],
   "source": [
    "#using remove()\n",
    "a.remove(1)\n",
    "print(a)"
   ]
  },
  {
   "cell_type": "markdown",
   "id": "e4348651-c99c-4fd4-b2be-3959246f04d4",
   "metadata": {},
   "source": [
    "### - Add Set Members"
   ]
  },
  {
   "cell_type": "markdown",
   "id": "d514907b-8409-4c33-8362-419002c76c33",
   "metadata": {},
   "source": [
    "Adding set members can be done using the add() method which is used to add only one member to the set."
   ]
  },
  {
   "cell_type": "code",
   "execution_count": 6,
   "id": "d712b51d-be0e-45bf-8720-c1b60b27d909",
   "metadata": {},
   "outputs": [
    {
     "name": "stdout",
     "output_type": "stream",
     "text": [
      "{2, 3, 1, 6, 7}\n"
     ]
    }
   ],
   "source": [
    "#Add()\n",
    "a.add(1)\n",
    "print(a)"
   ]
  },
  {
   "cell_type": "markdown",
   "id": "5ff2020f-8ddb-4810-9f3e-9321af01bcfa",
   "metadata": {},
   "source": [
    "to add more than one member to a set, use update() method. With this update method can also enter lists or tuples as our material."
   ]
  },
  {
   "cell_type": "code",
   "execution_count": 7,
   "id": "d7e54801-0ed7-470c-8aae-04eaf9f040cb",
   "metadata": {},
   "outputs": [
    {
     "name": "stdout",
     "output_type": "stream",
     "text": [
      "{1, 2, 3, 4, 6, 7, 8, 9, 10}\n"
     ]
    }
   ],
   "source": [
    "a.update([4,8,9,10])\n",
    "print(a)"
   ]
  },
  {
   "cell_type": "markdown",
   "id": "b2c00c44-eed0-4151-97e1-478f1c08d524",
   "metadata": {},
   "source": [
    " "
   ]
  },
  {
   "cell_type": "markdown",
   "id": "c4111ff3-2bc4-4d19-911a-df19115e1f4e",
   "metadata": {},
   "source": [
    "## UNION"
   ]
  },
  {
   "cell_type": "markdown",
   "id": "d19002fb-d334-4939-9a0e-08e06b016fd4",
   "metadata": {},
   "source": [
    "Combine all members of a set"
   ]
  },
  {
   "cell_type": "raw",
   "id": "66509a58-598c-44b7-839b-2600985b81cb",
   "metadata": {},
   "source": [
    "a = {1, 2, 3, 4, 6, 7, 8, 9, 10}"
   ]
  },
  {
   "cell_type": "code",
   "execution_count": 8,
   "id": "9c41541c-a6bb-4e60-a49f-fa3c305062b1",
   "metadata": {},
   "outputs": [],
   "source": [
    "b = {1, 11, 22}"
   ]
  },
  {
   "cell_type": "code",
   "execution_count": 9,
   "id": "7de72108-a7b9-47a3-88ff-4609b50a6190",
   "metadata": {},
   "outputs": [
    {
     "data": {
      "text/plain": [
       "{1, 2, 3, 4, 6, 7, 8, 9, 10, 11, 22}"
      ]
     },
     "execution_count": 9,
     "metadata": {},
     "output_type": "execute_result"
    }
   ],
   "source": [
    "a.union(b)"
   ]
  },
  {
   "cell_type": "markdown",
   "id": "73aa4623-1084-4c49-8a20-f0db649d10b6",
   "metadata": {},
   "source": [
    "## INTERCESTION"
   ]
  },
  {
   "cell_type": "markdown",
   "id": "94365eab-e837-44a2-8822-bdf3b5568c1d",
   "metadata": {},
   "source": [
    "Intersection is a slice, where the intersection value of two sets."
   ]
  },
  {
   "cell_type": "code",
   "execution_count": 10,
   "id": "f110ee46-d00a-47bd-9e62-8b08946a3688",
   "metadata": {},
   "outputs": [
    {
     "data": {
      "text/plain": [
       "{1}"
      ]
     },
     "execution_count": 10,
     "metadata": {},
     "output_type": "execute_result"
    }
   ],
   "source": [
    "a.intersection(b)"
   ]
  }
 ],
 "metadata": {
  "kernelspec": {
   "display_name": "Python 3 (ipykernel)",
   "language": "python",
   "name": "python3"
  },
  "language_info": {
   "codemirror_mode": {
    "name": "ipython",
    "version": 3
   },
   "file_extension": ".py",
   "mimetype": "text/x-python",
   "name": "python",
   "nbconvert_exporter": "python",
   "pygments_lexer": "ipython3",
   "version": "3.11.7"
  }
 },
 "nbformat": 4,
 "nbformat_minor": 5
}
