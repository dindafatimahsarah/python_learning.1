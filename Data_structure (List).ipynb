{
 "cells": [
  {
   "cell_type": "markdown",
   "id": "6cfe220e-9676-4053-bbd9-4fd9a9190553",
   "metadata": {},
   "source": [
    "# List"
   ]
  },
  {
   "cell_type": "markdown",
   "id": "ce0d21dd-7c0f-4e54-aae7-eb01bb01eb22",
   "metadata": {},
   "source": [
    "an essential component of Python projects, are a form of data structure that holds a sequence of items in a particular order. Each item in a list maintains its position consistently. \n",
    "\n",
    "These lists are mutable, enabling operations such as searching, appending, rearranging, and removing elements even after their creation. Moreover, lists can be nested, accommodating various objects, including other lists and sublists. \n",
    "\n",
    "List items are assigned indices, with the initial item designated as [0], followed by subsequent items at indices [1] and beyond.s."
   ]
  },
  {
   "cell_type": "code",
   "execution_count": 1,
   "id": "ebc00b94-113d-4cf4-9328-c4edde185de8",
   "metadata": {},
   "outputs": [],
   "source": [
    "a =[\"Jakarta\", 17,'July',2002]"
   ]
  },
  {
   "cell_type": "code",
   "execution_count": 2,
   "id": "372ccd01-9170-4db5-ae08-c69017e795bf",
   "metadata": {},
   "outputs": [
    {
     "data": {
      "text/plain": [
       "list"
      ]
     },
     "execution_count": 2,
     "metadata": {},
     "output_type": "execute_result"
    }
   ],
   "source": [
    "type(a)"
   ]
  },
  {
   "cell_type": "code",
   "execution_count": 3,
   "id": "e99494c2-161f-4a4f-96f3-b8273eda3ba4",
   "metadata": {},
   "outputs": [
    {
     "data": {
      "text/plain": [
       "2002"
      ]
     },
     "execution_count": 3,
     "metadata": {},
     "output_type": "execute_result"
    }
   ],
   "source": [
    "a[3]"
   ]
  },
  {
   "cell_type": "code",
   "execution_count": 4,
   "id": "de000dd9-c9aa-4771-892a-91c5bf9048c4",
   "metadata": {},
   "outputs": [
    {
     "data": {
      "text/plain": [
       "int"
      ]
     },
     "execution_count": 4,
     "metadata": {},
     "output_type": "execute_result"
    }
   ],
   "source": [
    "type(a[3])"
   ]
  },
  {
   "cell_type": "markdown",
   "id": "f1bfceca-e7a2-49dc-96ac-3f984ff99e3b",
   "metadata": {},
   "source": [
    "### List Length"
   ]
  },
  {
   "cell_type": "markdown",
   "id": "dae769c0-f094-4c8f-9201-32b7c76ce3c4",
   "metadata": {},
   "source": [
    "To get the number of elements in a list, you can use the len()function ."
   ]
  },
  {
   "cell_type": "code",
   "execution_count": 5,
   "id": "5bb01169-3bad-4213-90e7-e9dd877cff26",
   "metadata": {},
   "outputs": [
    {
     "data": {
      "text/plain": [
       "4"
      ]
     },
     "execution_count": 5,
     "metadata": {},
     "output_type": "execute_result"
    }
   ],
   "source": [
    "len(a)"
   ]
  },
  {
   "cell_type": "markdown",
   "id": "5f09c3c2-932d-4f96-b210-11b6e4b1c242",
   "metadata": {},
   "source": [
    "## Add a List Element"
   ]
  },
  {
   "cell_type": "markdown",
   "id": "aa998099-8665-47ee-bd98-40a199d211c7",
   "metadata": {},
   "source": [
    "### 1) Append"
   ]
  },
  {
   "cell_type": "markdown",
   "id": "a9f1ae0f-9016-40ec-8e04-e0c875388ae8",
   "metadata": {},
   "source": [
    "To add elements to a list, we can use either the .append() method. "
   ]
  },
  {
   "cell_type": "code",
   "execution_count": 6,
   "id": "c9cb2fbe-0dc9-4dc2-b2a1-de6b97d7e9ac",
   "metadata": {},
   "outputs": [],
   "source": [
    "b = [1,2,3,4,5,6,7,8,11]"
   ]
  },
  {
   "cell_type": "code",
   "execution_count": 7,
   "id": "161444a4-3624-4817-a083-dca99bedb4e2",
   "metadata": {},
   "outputs": [],
   "source": [
    "b.append(10)"
   ]
  },
  {
   "cell_type": "code",
   "execution_count": 8,
   "id": "3eca1f4c-20ca-49cf-9224-8d9f96508e44",
   "metadata": {},
   "outputs": [
    {
     "name": "stdout",
     "output_type": "stream",
     "text": [
      "[1, 2, 3, 4, 5, 6, 7, 8, 11, 10]\n"
     ]
    }
   ],
   "source": [
    "print(b)"
   ]
  },
  {
   "cell_type": "markdown",
   "id": "d8543de3-b175-4ed7-9852-aec92cb37d39",
   "metadata": {},
   "source": [
    "### 2) Insert"
   ]
  },
  {
   "cell_type": "markdown",
   "id": "50d48961-afa8-425c-b810-6aeb5087827e",
   "metadata": {},
   "source": [
    "insert an item at a specific position. The first argument is the index of the element before inserting, so a.insert(0, x) inserts at the front of the list, and a.insert(len(a), x) is the same as a.append(x)."
   ]
  },
  {
   "cell_type": "code",
   "execution_count": 9,
   "id": "7241b9ee-cc21-40b7-a612-5235c2c8025c",
   "metadata": {},
   "outputs": [
    {
     "name": "stdout",
     "output_type": "stream",
     "text": [
      "[0, 1, 2, 3, 4, 5, 6, 7, 8, 11, 10]\n"
     ]
    }
   ],
   "source": [
    "b.insert(0, 0)\n",
    "print(b)"
   ]
  },
  {
   "cell_type": "markdown",
   "id": "7f102cfc-a7cd-4256-8fa8-935dc7849b2c",
   "metadata": {},
   "source": [
    "### 3) Extend"
   ]
  },
  {
   "cell_type": "markdown",
   "id": "7e2b2a44-fd92-4a63-aaca-74100931bc45",
   "metadata": {},
   "source": [
    "To add items from a different list to the existing one, employ the extend() function. This combines another list with the current one at the end."
   ]
  },
  {
   "cell_type": "code",
   "execution_count": 10,
   "id": "cd0a88b6-6fd1-4b25-809f-2d5cdb67c214",
   "metadata": {},
   "outputs": [
    {
     "name": "stdout",
     "output_type": "stream",
     "text": [
      "[0, 1, 2, 3, 4, 5, 6, 7, 8, 11, 10, 11, 12]\n"
     ]
    }
   ],
   "source": [
    "b.extend([11,12])\n",
    "print(b)"
   ]
  },
  {
   "cell_type": "markdown",
   "id": "a1980c84-838a-4e7b-8f0f-271fcedab085",
   "metadata": {},
   "source": [
    "## Removing List Elements"
   ]
  },
  {
   "cell_type": "markdown",
   "id": "4c374218-966f-40a9-aac5-227edac8c1c9",
   "metadata": {},
   "source": [
    "### 1) Del"
   ]
  },
  {
   "cell_type": "markdown",
   "id": "14a40ca5-0958-4437-98a3-c90ac1167779",
   "metadata": {},
   "source": [
    "To reduce the elements of a list, we can use del list[index]"
   ]
  },
  {
   "cell_type": "code",
   "execution_count": 11,
   "id": "4d2f1aa6-dd28-4eb6-a981-5d6dcaa45705",
   "metadata": {},
   "outputs": [
    {
     "name": "stdout",
     "output_type": "stream",
     "text": [
      "[0, 1, 2, 3, 4, 5, 6, 7, 11, 10, 11, 12]\n"
     ]
    }
   ],
   "source": [
    "del b[8]\n",
    "print(b)"
   ]
  },
  {
   "cell_type": "markdown",
   "id": "04fc0aa8-01e8-405e-b849-73daebc516ad",
   "metadata": {},
   "source": [
    "### 2) Pop"
   ]
  },
  {
   "cell_type": "markdown",
   "id": "c1239fbd-10b1-4cce-9d4a-65a7939e9a5e",
   "metadata": {},
   "source": [
    "If no index is specified, list.pop() removes and returns the last item in the list."
   ]
  },
  {
   "cell_type": "code",
   "execution_count": 12,
   "id": "fa26853e-2161-4c38-a308-ff9e2fffae73",
   "metadata": {},
   "outputs": [
    {
     "name": "stdout",
     "output_type": "stream",
     "text": [
      "[1, 2, 3, 4, 5, 6, 7, 11, 10, 11, 12]\n"
     ]
    }
   ],
   "source": [
    "b.pop(0)\n",
    "print(b)"
   ]
  },
  {
   "cell_type": "markdown",
   "id": "9374764d-2421-42e9-9f02-75b40a560908",
   "metadata": {},
   "source": [
    "### 3) Remove"
   ]
  },
  {
   "cell_type": "markdown",
   "id": "b1ce8136-3619-437d-9b0a-38bc89b979d4",
   "metadata": {},
   "source": [
    "Remove the first item from the list whose value is equal to x. This raises a ValueError if no such item exists. Method remove() with the paramter of the item to be removed."
   ]
  },
  {
   "cell_type": "code",
   "execution_count": 13,
   "id": "26671bd9-e534-4e98-a176-10f43684f92c",
   "metadata": {},
   "outputs": [
    {
     "name": "stdout",
     "output_type": "stream",
     "text": [
      "[1, 2, 3, 4, 5, 6, 7, 10, 11, 12]\n"
     ]
    }
   ],
   "source": [
    "b.remove(11)\n",
    "print(b)"
   ]
  },
  {
   "cell_type": "markdown",
   "id": "67e53b20-4a67-4698-bc92-73c121823f8f",
   "metadata": {},
   "source": [
    "## Sort and Reverse"
   ]
  },
  {
   "cell_type": "markdown",
   "id": "94d9026b-3b5c-44bf-bb36-79fda85cda30",
   "metadata": {},
   "source": [
    "### 1) Sort"
   ]
  },
  {
   "cell_type": "markdown",
   "id": "bdc5d7b8-379b-4ab8-83f5-5d936fc475a7",
   "metadata": {},
   "source": [
    "List elements can be sorted using the sort() function. The sort command will sort from the smallest value to the largest value."
   ]
  },
  {
   "cell_type": "code",
   "execution_count": 14,
   "id": "feeaf5a1-9f3b-4b22-a6ac-2fdc902de0ea",
   "metadata": {},
   "outputs": [
    {
     "name": "stdout",
     "output_type": "stream",
     "text": [
      "[1, 2, 3, 4, 5, 6, 7, 10, 11, 12]\n"
     ]
    }
   ],
   "source": [
    "b.sort()\n",
    "print(b)"
   ]
  },
  {
   "cell_type": "markdown",
   "id": "ce663e41-3ee7-4532-8f81-26a4d049c992",
   "metadata": {},
   "source": [
    "### 2) Reverse"
   ]
  },
  {
   "cell_type": "markdown",
   "id": "0f7e2604-da4f-4c79-b73f-427293735908",
   "metadata": {},
   "source": [
    "Reverse the list elements in place reverse() function, reverses the order of the list elements."
   ]
  },
  {
   "cell_type": "code",
   "execution_count": 15,
   "id": "9f2e86b0-2032-4178-9942-f6c7853e3c64",
   "metadata": {},
   "outputs": [
    {
     "name": "stdout",
     "output_type": "stream",
     "text": [
      "[12, 11, 10, 7, 6, 5, 4, 3, 2, 1]\n"
     ]
    }
   ],
   "source": [
    "b.reverse()\n",
    "print(b)"
   ]
  }
 ],
 "metadata": {
  "kernelspec": {
   "display_name": "Python 3 (ipykernel)",
   "language": "python",
   "name": "python3"
  },
  "language_info": {
   "codemirror_mode": {
    "name": "ipython",
    "version": 3
   },
   "file_extension": ".py",
   "mimetype": "text/x-python",
   "name": "python",
   "nbconvert_exporter": "python",
   "pygments_lexer": "ipython3",
   "version": "3.11.7"
  }
 },
 "nbformat": 4,
 "nbformat_minor": 5
}
