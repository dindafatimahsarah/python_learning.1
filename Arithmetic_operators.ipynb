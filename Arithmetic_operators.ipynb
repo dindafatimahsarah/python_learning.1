{
 "cells": [
  {
   "cell_type": "markdown",
   "id": "1545fe62-47a4-49ce-b744-e1bb28292664",
   "metadata": {},
   "source": [
    "# Arithmetic Operators"
   ]
  },
  {
   "cell_type": "markdown",
   "id": "939e1019-7df5-44f7-9273-3cc2687f272b",
   "metadata": {},
   "source": [
    "Arithmetic operators in Python are symbols that perform basic mathematical operations on numerical data types like integers, floats, and complex numbers. "
   ]
  },
  {
   "cell_type": "markdown",
   "id": "a75355e3-d934-4b85-ad16-7076359bb5bf",
   "metadata": {},
   "source": [
    "### - Addition and subtraction"
   ]
  },
  {
   "cell_type": "markdown",
   "id": "8112f2dc-8316-4735-bd4d-307e20955727",
   "metadata": {},
   "source": [
    "Addition (+) performs normal numeric addition:"
   ]
  },
  {
   "cell_type": "code",
   "execution_count": 1,
   "id": "444e3006-58e0-4acf-89d0-f62fd135852f",
   "metadata": {},
   "outputs": [],
   "source": [
    "x = 2\n",
    "y = 5\n",
    "o = 'o'\n",
    "p = 'pe'\n",
    "r = 'ra'\n",
    "t = 'tor'"
   ]
  },
  {
   "cell_type": "code",
   "execution_count": 2,
   "id": "417a5b0a-1c8f-4f43-bdda-5424dc3295af",
   "metadata": {},
   "outputs": [
    {
     "data": {
      "text/plain": [
       "7"
      ]
     },
     "execution_count": 2,
     "metadata": {},
     "output_type": "execute_result"
    }
   ],
   "source": [
    "x+y"
   ]
  },
  {
   "cell_type": "code",
   "execution_count": 3,
   "id": "06bb20b6-77d3-4a5e-8130-59f35b425da8",
   "metadata": {},
   "outputs": [
    {
     "data": {
      "text/plain": [
       "'operator'"
      ]
     },
     "execution_count": 3,
     "metadata": {},
     "output_type": "execute_result"
    }
   ],
   "source": [
    "o+p+r+t"
   ]
  },
  {
   "cell_type": "markdown",
   "id": "ef2f57b8-9bb0-4182-bcc1-5408bb01442c",
   "metadata": {},
   "source": [
    "Subtraction (-) in strings cannot be done because an error will appear:"
   ]
  },
  {
   "cell_type": "code",
   "execution_count": 4,
   "id": "9d9854a2-053c-44fe-b0f8-2b22e3e5cd66",
   "metadata": {},
   "outputs": [
    {
     "data": {
      "text/plain": [
       "3"
      ]
     },
     "execution_count": 4,
     "metadata": {},
     "output_type": "execute_result"
    }
   ],
   "source": [
    "y-x"
   ]
  },
  {
   "cell_type": "code",
   "execution_count": 5,
   "id": "f87d7561-0e6b-440c-8d81-4d20785a25ef",
   "metadata": {},
   "outputs": [
    {
     "ename": "TypeError",
     "evalue": "unsupported operand type(s) for -: 'str' and 'str'",
     "output_type": "error",
     "traceback": [
      "\u001b[1;31m---------------------------------------------------------------------------\u001b[0m",
      "\u001b[1;31mTypeError\u001b[0m                                 Traceback (most recent call last)",
      "Cell \u001b[1;32mIn[5], line 1\u001b[0m\n\u001b[1;32m----> 1\u001b[0m o\u001b[38;5;241m-\u001b[39mp\u001b[38;5;241m-\u001b[39mr\u001b[38;5;241m-\u001b[39mt\n",
      "\u001b[1;31mTypeError\u001b[0m: unsupported operand type(s) for -: 'str' and 'str'"
     ]
    }
   ],
   "source": [
    "o-p-r-t"
   ]
  },
  {
   "cell_type": "markdown",
   "id": "1ad32422-b654-416b-aad0-18399cbc6754",
   "metadata": {},
   "source": [
    "### - Multiplication and Division"
   ]
  },
  {
   "cell_type": "markdown",
   "id": "8b68e139-e256-45b5-ae89-62fb4ad10382",
   "metadata": {},
   "source": [
    "Multiplication (*) performs normal numeric multiplication:"
   ]
  },
  {
   "cell_type": "code",
   "execution_count": 6,
   "id": "58271605-ddeb-4658-9cf1-638268a0bb25",
   "metadata": {},
   "outputs": [
    {
     "data": {
      "text/plain": [
       "10"
      ]
     },
     "execution_count": 6,
     "metadata": {},
     "output_type": "execute_result"
    }
   ],
   "source": [
    "x*y"
   ]
  },
  {
   "cell_type": "code",
   "execution_count": 7,
   "id": "9fd8ad66-6602-4177-bbf1-5ffd59299fe5",
   "metadata": {},
   "outputs": [
    {
     "data": {
      "text/plain": [
       "'tortortortor'"
      ]
     },
     "execution_count": 7,
     "metadata": {},
     "output_type": "execute_result"
    }
   ],
   "source": [
    "t*4"
   ]
  },
  {
   "cell_type": "markdown",
   "id": "d71ce014-3710-4472-af26-1369cb5d20b1",
   "metadata": {},
   "source": [
    "Division (/) performs division and returns a floating-point number (even if the result is a whole number):"
   ]
  },
  {
   "cell_type": "code",
   "execution_count": 8,
   "id": "b4037706-bd0e-445b-972a-eb63a83546aa",
   "metadata": {},
   "outputs": [
    {
     "data": {
      "text/plain": [
       "0.4"
      ]
     },
     "execution_count": 8,
     "metadata": {},
     "output_type": "execute_result"
    }
   ],
   "source": [
    "x/y"
   ]
  },
  {
   "cell_type": "code",
   "execution_count": 9,
   "id": "a4f1ee0d-3c67-44c0-8ab8-e8a2fc0b034c",
   "metadata": {},
   "outputs": [
    {
     "ename": "TypeError",
     "evalue": "unsupported operand type(s) for /: 'str' and 'int'",
     "output_type": "error",
     "traceback": [
      "\u001b[1;31m---------------------------------------------------------------------------\u001b[0m",
      "\u001b[1;31mTypeError\u001b[0m                                 Traceback (most recent call last)",
      "Cell \u001b[1;32mIn[9], line 1\u001b[0m\n\u001b[1;32m----> 1\u001b[0m t\u001b[38;5;241m/\u001b[39m\u001b[38;5;241m4\u001b[39m\n",
      "\u001b[1;31mTypeError\u001b[0m: unsupported operand type(s) for /: 'str' and 'int'"
     ]
    }
   ],
   "source": [
    "t/4"
   ]
  },
  {
   "cell_type": "markdown",
   "id": "cfe3ddfb-c039-4387-9a21-fcb558223e34",
   "metadata": {},
   "source": [
    "### - Modulus, Floor division, and Exponentiation  "
   ]
  },
  {
   "cell_type": "markdown",
   "id": "d932f2b4-e174-4540-8b9b-2a03e1d6027d",
   "metadata": {},
   "source": [
    "Modulo (%) returns the remainder after division:"
   ]
  },
  {
   "cell_type": "code",
   "execution_count": 10,
   "id": "8fa50805-d75a-4060-841c-cd182f560fb5",
   "metadata": {},
   "outputs": [
    {
     "data": {
      "text/plain": [
       "2"
      ]
     },
     "execution_count": 10,
     "metadata": {},
     "output_type": "execute_result"
    }
   ],
   "source": [
    "x%y"
   ]
  },
  {
   "cell_type": "markdown",
   "id": "20b7266f-603e-4b1c-8295-de199063f239",
   "metadata": {},
   "source": [
    "Floor division (//) performs integer division and discards the remainder:"
   ]
  },
  {
   "cell_type": "code",
   "execution_count": 11,
   "id": "8edc9d38-5d43-4861-94f5-17666b91e0da",
   "metadata": {},
   "outputs": [
    {
     "data": {
      "text/plain": [
       "0"
      ]
     },
     "execution_count": 11,
     "metadata": {},
     "output_type": "execute_result"
    }
   ],
   "source": [
    "x//y"
   ]
  },
  {
   "cell_type": "markdown",
   "id": "c4f48ef1-e553-4508-b4b7-b4fd04b6d0d1",
   "metadata": {},
   "source": [
    "Exponentiation (**) performs exponentiation:"
   ]
  },
  {
   "cell_type": "code",
   "execution_count": 12,
   "id": "9736711d-7abe-4002-93da-dc644e1dd379",
   "metadata": {},
   "outputs": [
    {
     "data": {
      "text/plain": [
       "32"
      ]
     },
     "execution_count": 12,
     "metadata": {},
     "output_type": "execute_result"
    }
   ],
   "source": [
    "x**y"
   ]
  }
 ],
 "metadata": {
  "kernelspec": {
   "display_name": "Python 3 (ipykernel)",
   "language": "python",
   "name": "python3"
  },
  "language_info": {
   "codemirror_mode": {
    "name": "ipython",
    "version": 3
   },
   "file_extension": ".py",
   "mimetype": "text/x-python",
   "name": "python",
   "nbconvert_exporter": "python",
   "pygments_lexer": "ipython3",
   "version": "3.11.7"
  }
 },
 "nbformat": 4,
 "nbformat_minor": 5
}
