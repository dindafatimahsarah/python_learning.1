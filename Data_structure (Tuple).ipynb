{
 "cells": [
  {
   "cell_type": "markdown",
   "id": "cc452002-1610-4281-995f-eaff61cd8bcb",
   "metadata": {},
   "source": [
    "# Tuple"
   ]
  },
  {
   "cell_type": "markdown",
   "id": "8cd57eba-e1db-47dd-845a-94091845d022",
   "metadata": {},
   "source": [
    "Used to store one or more data in it. The difference lies in the ability to change members. The members of a tuple cannot be changed partially, but can be changed entirely by utilizing a variable initiation with a new value. The initiation of a tuple variable is done using parentheses '()'."
   ]
  },
  {
   "cell_type": "markdown",
   "id": "f21f9301-9cf2-467e-87d9-79d3eccda566",
   "metadata": {},
   "source": [
    "### - Accessing Tuple Elements"
   ]
  },
  {
   "cell_type": "markdown",
   "id": "d68d19f6-bc64-46d2-8302-6d3831de80e2",
   "metadata": {},
   "source": [
    "To access tuple elements, you can use positive and negative indexes"
   ]
  },
  {
   "cell_type": "code",
   "execution_count": 1,
   "id": "2d629c6a-03da-4dbe-adc3-cac1a5950357",
   "metadata": {},
   "outputs": [],
   "source": [
    "a = (10,\"Agustus\",19.45)"
   ]
  },
  {
   "cell_type": "markdown",
   "id": "106e7a7b-051c-4231-b94b-b7b66fd9106c",
   "metadata": {},
   "source": [
    "access positive index (from front)\r",
    ")"
   ]
  },
  {
   "cell_type": "code",
   "execution_count": 2,
   "id": "8a1b9e80-4c63-435f-a326-103958355bbe",
   "metadata": {},
   "outputs": [
    {
     "name": "stdout",
     "output_type": "stream",
     "text": [
      "Agustus\n"
     ]
    }
   ],
   "source": [
    "print(a[1])"
   ]
  },
  {
   "cell_type": "markdown",
   "id": "c991362e-8353-49a3-b269-a1a762219057",
   "metadata": {},
   "source": [
    "access negative index (from behind)"
   ]
  },
  {
   "cell_type": "code",
   "execution_count": 3,
   "id": "e6771e0f-4a08-49a2-84bf-fbdaf1dbe271",
   "metadata": {},
   "outputs": [
    {
     "name": "stdout",
     "output_type": "stream",
     "text": [
      "19.45\n"
     ]
    }
   ],
   "source": [
    "print(a[-1])"
   ]
  },
  {
   "cell_type": "markdown",
   "id": "0b5b08f2-0619-4b10-a399-095804b3435e",
   "metadata": {},
   "source": [
    "### - Cannot Change and Add Tuple Elements"
   ]
  },
  {
   "cell_type": "markdown",
   "id": "66cdb76c-3c0e-44cc-9cf0-4439335f0be1",
   "metadata": {},
   "source": [
    "Unlike lists where you cannot change or add tuples. The same thing happens if we use the append() method to add members."
   ]
  },
  {
   "cell_type": "code",
   "execution_count": 4,
   "id": "695c389e-48cd-45a0-b6fb-98c3def73135",
   "metadata": {},
   "outputs": [
    {
     "ename": "TypeError",
     "evalue": "'tuple' object does not support item assignment",
     "output_type": "error",
     "traceback": [
      "\u001b[1;31m---------------------------------------------------------------------------\u001b[0m",
      "\u001b[1;31mTypeError\u001b[0m                                 Traceback (most recent call last)",
      "Cell \u001b[1;32mIn[4], line 1\u001b[0m\n\u001b[1;32m----> 1\u001b[0m a[\u001b[38;5;241m2\u001b[39m] \u001b[38;5;241m=\u001b[39m \u001b[38;5;241m1945\u001b[39m\n",
      "\u001b[1;31mTypeError\u001b[0m: 'tuple' object does not support item assignment"
     ]
    }
   ],
   "source": [
    "a[2] = 1945"
   ]
  },
  {
   "cell_type": "code",
   "execution_count": 5,
   "id": "fd2697a5-ac59-431e-ba60-0a2aeda322cf",
   "metadata": {},
   "outputs": [
    {
     "ename": "AttributeError",
     "evalue": "'tuple' object has no attribute 'append'",
     "output_type": "error",
     "traceback": [
      "\u001b[1;31m---------------------------------------------------------------------------\u001b[0m",
      "\u001b[1;31mAttributeError\u001b[0m                            Traceback (most recent call last)",
      "Cell \u001b[1;32mIn[5], line 1\u001b[0m\n\u001b[1;32m----> 1\u001b[0m a\u001b[38;5;241m.\u001b[39mappend(\u001b[38;5;241m2\u001b[39m)\n",
      "\u001b[1;31mAttributeError\u001b[0m: 'tuple' object has no attribute 'append'"
     ]
    }
   ],
   "source": [
    "a.append(2)"
   ]
  },
  {
   "cell_type": "markdown",
   "id": "a8982546-64ed-4767-ac97-8006f84f7e6e",
   "metadata": {},
   "source": [
    "### - Truncate and Duplicating Tuples"
   ]
  },
  {
   "cell_type": "code",
   "execution_count": 6,
   "id": "c062da35-2836-4212-8a26-2c32e87052a3",
   "metadata": {},
   "outputs": [
    {
     "name": "stdout",
     "output_type": "stream",
     "text": [
      "(10, 'Agustus')\n"
     ]
    }
   ],
   "source": [
    "#truncate\n",
    "b = a[0:2] \n",
    "print(b)"
   ]
  },
  {
   "cell_type": "code",
   "execution_count": 7,
   "id": "cfae6a18-d5be-42dc-920b-7398c77e05ef",
   "metadata": {},
   "outputs": [
    {
     "name": "stdout",
     "output_type": "stream",
     "text": [
      "(10, 'Agustus', 19.45)\n"
     ]
    }
   ],
   "source": [
    "#duplicate\n",
    "c = a[:]\n",
    "print(c)"
   ]
  },
  {
   "cell_type": "markdown",
   "id": "f651f7ba-45f4-47a1-a68b-50e457ee4bad",
   "metadata": {},
   "source": [
    "### - Initiating Multi-Variables Using Tuples"
   ]
  },
  {
   "cell_type": "markdown",
   "id": "ed0a65cf-b8e3-46ee-bb9a-137fe5b2d551",
   "metadata": {},
   "source": [
    "\n",
    "Although we cannot make changes to the tuple, we can instantiate the tuple members into variables. However, the variables must be the same number as the tuple members.\n"
   ]
  },
  {
   "cell_type": "raw",
   "id": "c3b90c91-0501-4efb-8c69-d1db4d19de6e",
   "metadata": {},
   "source": [
    "a = (10,\"Agustus\",19.45)"
   ]
  },
  {
   "cell_type": "markdown",
   "id": "190499c6-e442-45fb-a69b-0a95e6aaef70",
   "metadata": {},
   "source": [
    "put it into 4 variables because the tuple has 3 members"
   ]
  },
  {
   "cell_type": "code",
   "execution_count": 9,
   "id": "0f25b058-8fad-466b-8553-5b980476485e",
   "metadata": {},
   "outputs": [],
   "source": [
    "x, y, z = a"
   ]
  },
  {
   "cell_type": "code",
   "execution_count": 10,
   "id": "e8b071b0-cbdc-4609-91c3-74aa0fe524b5",
   "metadata": {},
   "outputs": [
    {
     "name": "stdout",
     "output_type": "stream",
     "text": [
      "10 Agustus 19.45\n",
      "<class 'int'> <class 'str'> <class 'float'>\n"
     ]
    }
   ],
   "source": [
    "print(x, y, z)\n",
    "print(type(x), type(y), type(z))"
   ]
  }
 ],
 "metadata": {
  "kernelspec": {
   "display_name": "Python 3 (ipykernel)",
   "language": "python",
   "name": "python3"
  },
  "language_info": {
   "codemirror_mode": {
    "name": "ipython",
    "version": 3
   },
   "file_extension": ".py",
   "mimetype": "text/x-python",
   "name": "python",
   "nbconvert_exporter": "python",
   "pygments_lexer": "ipython3",
   "version": "3.11.7"
  }
 },
 "nbformat": 4,
 "nbformat_minor": 5
}
