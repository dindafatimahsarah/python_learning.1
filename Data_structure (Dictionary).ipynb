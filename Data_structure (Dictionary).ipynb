{
 "cells": [
  {
   "cell_type": "markdown",
   "id": "01868b55-f11f-401e-acda-8ad32abce669",
   "metadata": {},
   "source": [
    "# Dictionary"
   ]
  },
  {
   "cell_type": "markdown",
   "id": "b88cf2c1-7204-4cae-bb55-91df3db92231",
   "metadata": {},
   "source": [
    "- Dictionary as a set of key:value pairs, with the requirement that the keys are unique (within a single dictionary)\n",
    "- Dictionaries are written with curly brackets { }, and have keys and values"
   ]
  },
  {
   "cell_type": "code",
   "execution_count": 1,
   "id": "be4e0e1a-d323-46b1-b6ec-27a29bbcbc4a",
   "metadata": {},
   "outputs": [],
   "source": [
    "a = {\"bob\": 7387, \"alice\": 3719, \"jack\": 7052}"
   ]
  },
  {
   "cell_type": "code",
   "execution_count": 2,
   "id": "9ee5114b-cfc9-41f8-8a8d-855e44935294",
   "metadata": {},
   "outputs": [
    {
     "data": {
      "text/plain": [
       "dict"
      ]
     },
     "execution_count": 2,
     "metadata": {},
     "output_type": "execute_result"
    }
   ],
   "source": [
    "type(a)"
   ]
  },
  {
   "cell_type": "markdown",
   "id": "0c824f38-5747-49fb-aa6f-c874b666de70",
   "metadata": {},
   "source": [
    "dictionary can be referred to by using the key name not index:"
   ]
  },
  {
   "cell_type": "code",
   "execution_count": 3,
   "id": "6c14c9a7-493f-4145-9177-9805f94974a0",
   "metadata": {},
   "outputs": [
    {
     "ename": "KeyError",
     "evalue": "1",
     "output_type": "error",
     "traceback": [
      "\u001b[1;31m---------------------------------------------------------------------------\u001b[0m",
      "\u001b[1;31mKeyError\u001b[0m                                  Traceback (most recent call last)",
      "Cell \u001b[1;32mIn[3], line 1\u001b[0m\n\u001b[1;32m----> 1\u001b[0m a[\u001b[38;5;241m1\u001b[39m]\n",
      "\u001b[1;31mKeyError\u001b[0m: 1"
     ]
    }
   ],
   "source": [
    "a[1]"
   ]
  },
  {
   "cell_type": "code",
   "execution_count": 4,
   "id": "2c64b68d-7474-4e3a-b2f8-558395d6472d",
   "metadata": {},
   "outputs": [
    {
     "data": {
      "text/plain": [
       "7387"
      ]
     },
     "execution_count": 4,
     "metadata": {},
     "output_type": "execute_result"
    }
   ],
   "source": [
    "a['bob']"
   ]
  },
  {
   "cell_type": "markdown",
   "id": "0593445e-84e3-4791-a1b6-25f86756f691",
   "metadata": {},
   "source": [
    "## Nested Dictionary"
   ]
  },
  {
   "cell_type": "code",
   "execution_count": 5,
   "id": "8beb1835-96ed-4936-b229-fc32956999b7",
   "metadata": {},
   "outputs": [],
   "source": [
    "b = {\"phonebook\":\n",
    "     {\"bob\": 7387 \n",
    "      ,\"alice\": 3719 \n",
    "      , \"jack\": 7052}\n",
    "    }\n"
   ]
  },
  {
   "cell_type": "code",
   "execution_count": 6,
   "id": "49ae2ccc-47df-4a2d-9f9b-fa13c450af4c",
   "metadata": {},
   "outputs": [
    {
     "name": "stdout",
     "output_type": "stream",
     "text": [
      "{'phonebook': {'bob': 7387, 'alice': 3719, 'jack': 7052}}\n"
     ]
    }
   ],
   "source": [
    "print(b)"
   ]
  },
  {
   "cell_type": "code",
   "execution_count": 7,
   "id": "2ecd36a8-2a6f-4129-b296-b1bd0e8a6553",
   "metadata": {},
   "outputs": [
    {
     "data": {
      "text/plain": [
       "7387"
      ]
     },
     "execution_count": 7,
     "metadata": {},
     "output_type": "execute_result"
    }
   ],
   "source": [
    "b['phonebook']['bob']"
   ]
  }
 ],
 "metadata": {
  "kernelspec": {
   "display_name": "Python 3 (ipykernel)",
   "language": "python",
   "name": "python3"
  },
  "language_info": {
   "codemirror_mode": {
    "name": "ipython",
    "version": 3
   },
   "file_extension": ".py",
   "mimetype": "text/x-python",
   "name": "python",
   "nbconvert_exporter": "python",
   "pygments_lexer": "ipython3",
   "version": "3.11.7"
  }
 },
 "nbformat": 4,
 "nbformat_minor": 5
}
