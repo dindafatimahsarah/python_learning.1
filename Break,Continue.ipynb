{
 "cells": [
  {
   "cell_type": "markdown",
   "id": "455bb75c-41f1-4d95-94e0-b94e1c587540",
   "metadata": {},
   "source": [
    "# Break"
   ]
  },
  {
   "cell_type": "markdown",
   "id": "7a06d6a4-3a57-4806-8fb3-8b509a5a5583",
   "metadata": {},
   "source": [
    "The break statement is a control flow statement that you can use within loops (while and for) to prematurely exit the loop. This means that the loop's normal iteration stops, and the program control jumps to the line of code immediately following the loop."
   ]
  },
  {
   "cell_type": "code",
   "execution_count": 2,
   "id": "f4051d65-68d6-417b-a602-be4eb8405eca",
   "metadata": {},
   "outputs": [],
   "source": [
    "a = \"Senin\", \"Selasa\", \"Rabu\", 'Kamis', \"Jum'at\", 'Sabtu', \"Minggu\""
   ]
  },
  {
   "cell_type": "code",
   "execution_count": 3,
   "id": "d5ac4978-7535-4081-ae7d-7b4c5bcda93e",
   "metadata": {},
   "outputs": [
    {
     "name": "stdout",
     "output_type": "stream",
     "text": [
      "Senin\n",
      "Selasa\n",
      "Rabu\n",
      "Kamis\n",
      "Jum'at\n"
     ]
    }
   ],
   "source": [
    "for i in a:\n",
    "    if i == \"Sabtu\":\n",
    "        break\n",
    "    print(i)"
   ]
  },
  {
   "cell_type": "markdown",
   "id": "0692571a-8921-4997-8086-751565de2d18",
   "metadata": {},
   "source": [
    "# Continue"
   ]
  },
  {
   "cell_type": "markdown",
   "id": "1d34ecb9-b7de-49ce-81b4-1a2c8739cc48",
   "metadata": {},
   "source": [
    "The continue statement in Python is another control flow statement used within loops (while and for). Unlike break which exits the loop entirely, continue skips the remaining code block of the current iteration and moves on to the next iteration of the loop."
   ]
  },
  {
   "cell_type": "code",
   "execution_count": null,
   "id": "dca451c4-ded3-4f9f-bc7d-08fd734caa2d",
   "metadata": {},
   "outputs": [],
   "source": []
  }
 ],
 "metadata": {
  "kernelspec": {
   "display_name": "Python 3 (ipykernel)",
   "language": "python",
   "name": "python3"
  },
  "language_info": {
   "codemirror_mode": {
    "name": "ipython",
    "version": 3
   },
   "file_extension": ".py",
   "mimetype": "text/x-python",
   "name": "python",
   "nbconvert_exporter": "python",
   "pygments_lexer": "ipython3",
   "version": "3.11.7"
  }
 },
 "nbformat": 4,
 "nbformat_minor": 5
}
