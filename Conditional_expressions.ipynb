{
 "cells": [
  {
   "cell_type": "markdown",
   "id": "6cd8391e-df8c-45ee-b58f-16b8395a1e17",
   "metadata": {},
   "source": [
    "# Conditional Expressions"
   ]
  },
  {
   "cell_type": "markdown",
   "id": "2a2de251-35be-4d17-9b9f-5c115d19280f",
   "metadata": {},
   "source": [
    "In Python, conditional expressions, also known as ternary expressions, provide a concise way to express conditional logic in a single line of code. They allow you to evaluate a condition and return one of two values based on whether the condition is true or false."
   ]
  },
  {
   "cell_type": "markdown",
   "id": "5d8db443-64aa-472a-8284-fc820c7f6871",
   "metadata": {},
   "source": [
    "## IF"
   ]
  },
  {
   "cell_type": "markdown",
   "id": "c444ef94-f4d9-49d2-8b47-6a4d66b9acea",
   "metadata": {},
   "source": [
    "if is a keyword used to implement conditional statements. Conditional statements allow you to execute certain code blocks based on whether a specified condition evaluates to True or False."
   ]
  },
  {
   "cell_type": "code",
   "execution_count": 1,
   "id": "adf3c5b8-375d-4911-a5b3-8b9071d55f44",
   "metadata": {},
   "outputs": [],
   "source": [
    "a = 1234"
   ]
  },
  {
   "cell_type": "code",
   "execution_count": 2,
   "id": "8d41a801-ae57-4229-a017-820ce516b313",
   "metadata": {},
   "outputs": [
    {
     "name": "stdout",
     "output_type": "stream",
     "text": [
      "NIM : 1234\n"
     ]
    }
   ],
   "source": [
    "if a:\n",
    "    print(\"NIM : {}\".format(a))"
   ]
  },
  {
   "cell_type": "markdown",
   "id": "da0a3077-c58b-445e-91a2-25bf0d24b642",
   "metadata": {},
   "source": [
    "## Else"
   ]
  },
  {
   "cell_type": "markdown",
   "id": "0ed26368-c26a-4aa1-bb3b-9048886b7ae0",
   "metadata": {},
   "source": [
    "else is a keyword used in conjunction with the if statement to define a block of code that should be executed when the condition associated with the if statement evaluates to False."
   ]
  },
  {
   "cell_type": "code",
   "execution_count": 3,
   "id": "ebacc0ac-14a3-4d0d-bdcb-637a1215cac7",
   "metadata": {},
   "outputs": [
    {
     "name": "stdin",
     "output_type": "stream",
     "text": [
      "IP : 2.45\n"
     ]
    },
    {
     "name": "stdout",
     "output_type": "stream",
     "text": [
      "You can only contract for 20 credits\n"
     ]
    }
   ],
   "source": [
    "b = float(input(\"IP :\" ))\n",
    "\n",
    "if b > 2.5 :\n",
    "    print(\"You are eligible to contract 24 credits\")\n",
    "else:\n",
    "    print(\"You can only contract for 20 credits\")"
   ]
  },
  {
   "cell_type": "markdown",
   "id": "01e5951f-9cc3-4aa9-87c4-30cd2166ca9e",
   "metadata": {},
   "source": [
    "## ELIF"
   ]
  },
  {
   "cell_type": "markdown",
   "id": "111d28d1-069c-42c5-bf00-158c94820b16",
   "metadata": {},
   "source": [
    "elif is a keyword used in conjunction with the if statement to define additional conditions to be checked if the condition associated with the if statement evaluates to False. elif stands for \"else if\"."
   ]
  },
  {
   "cell_type": "code",
   "execution_count": 5,
   "id": "a63c176b-5561-45cf-aa95-a4118413eb8c",
   "metadata": {},
   "outputs": [
    {
     "name": "stdin",
     "output_type": "stream",
     "text": [
      "Enter your score:  70\n"
     ]
    },
    {
     "name": "stdout",
     "output_type": "stream",
     "text": [
      "You got C\n"
     ]
    }
   ],
   "source": [
    "c = int(input('Enter your score: '))\n",
    "\n",
    "if c >= 90:\n",
    "  print('You got A')\n",
    "elif c >= 80:\n",
    "  print('You got B')\n",
    "elif c >= 60:\n",
    "  print('You got C')\n",
    "elif c >= 40:\n",
    "  print('You got D')\n",
    "else:\n",
    "  print('You got E')"
   ]
  }
 ],
 "metadata": {
  "kernelspec": {
   "display_name": "Python 3 (ipykernel)",
   "language": "python",
   "name": "python3"
  },
  "language_info": {
   "codemirror_mode": {
    "name": "ipython",
    "version": 3
   },
   "file_extension": ".py",
   "mimetype": "text/x-python",
   "name": "python",
   "nbconvert_exporter": "python",
   "pygments_lexer": "ipython3",
   "version": "3.11.7"
  }
 },
 "nbformat": 4,
 "nbformat_minor": 5
}
