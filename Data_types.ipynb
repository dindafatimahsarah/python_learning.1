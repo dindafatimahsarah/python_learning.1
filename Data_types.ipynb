{
 "cells": [
  {
   "cell_type": "markdown",
   "id": "019299ac-413e-435b-8d95-40c87d743ad9",
   "metadata": {},
   "source": [
    "Common data types in python\n",
    "1. Numeric/numbers\n",
    "2. String\n",
    "3. Boolean"
   ]
  },
  {
   "cell_type": "markdown",
   "id": "7056adf4-04af-4d91-a3d3-06b5e78cfebd",
   "metadata": {},
   "source": [
    "    1. Numeric: Data types that are numbers that can be added, subtracted, multiplied or divided (int, float, complex)"
   ]
  },
  {
   "cell_type": "markdown",
   "id": "c42cab51-6eae-4ba8-a0d4-61f4f0341fac",
   "metadata": {},
   "source": [
    "#Integer: Round Numbers"
   ]
  },
  {
   "cell_type": "code",
   "execution_count": 1,
   "id": "3c578d1f-b854-44fd-b2c4-141326c4c661",
   "metadata": {},
   "outputs": [],
   "source": [
    "a = 100"
   ]
  },
  {
   "cell_type": "code",
   "execution_count": 2,
   "id": "ff6f866f-0f12-4d3a-a50f-0a41bade85b9",
   "metadata": {},
   "outputs": [
    {
     "data": {
      "text/plain": [
       "int"
      ]
     },
     "execution_count": 2,
     "metadata": {},
     "output_type": "execute_result"
    }
   ],
   "source": [
    "type(a)"
   ]
  },
  {
   "cell_type": "markdown",
   "id": "9ae99e4e-e224-4879-bebd-9a8a9901b309",
   "metadata": {},
   "source": [
    "#Float: data in the form of fractions or decimals"
   ]
  },
  {
   "cell_type": "code",
   "execution_count": 3,
   "id": "b809530b-94f9-4dc9-ae35-6c187776ac57",
   "metadata": {},
   "outputs": [],
   "source": [
    "b = 10.1"
   ]
  },
  {
   "cell_type": "code",
   "execution_count": 4,
   "id": "d3b97ddc-5207-4a9b-90a1-781d0ebf1f38",
   "metadata": {},
   "outputs": [
    {
     "data": {
      "text/plain": [
       "float"
      ]
     },
     "execution_count": 4,
     "metadata": {},
     "output_type": "execute_result"
    }
   ],
   "source": [
    "type(b)"
   ]
  },
  {
   "cell_type": "markdown",
   "id": "6d1fb642-92cf-4fd2-80d5-c925ca76f3b1",
   "metadata": {},
   "source": [
    "#Complex: Expressing pairs of real and imaginary numbers"
   ]
  },
  {
   "cell_type": "code",
   "execution_count": 5,
   "id": "be248ae6-b924-405f-a302-1ca74975555b",
   "metadata": {},
   "outputs": [],
   "source": [
    "c = 5j + 6 "
   ]
  },
  {
   "cell_type": "code",
   "execution_count": 6,
   "id": "74cbf593-5681-4d86-94cc-1e7b34fb2985",
   "metadata": {},
   "outputs": [
    {
     "data": {
      "text/plain": [
       "complex"
      ]
     },
     "execution_count": 6,
     "metadata": {},
     "output_type": "execute_result"
    }
   ],
   "source": [
    "type(c)"
   ]
  },
  {
   "cell_type": "markdown",
   "id": "56437dbd-4fa4-4b33-98ba-b65f7a3020ee",
   "metadata": {},
   "source": [
    "    2. String: a data type that is closely related to data in the form of text"
   ]
  },
  {
   "cell_type": "code",
   "execution_count": 8,
   "id": "72743cea-4c8f-4822-8af7-2cb20b23dafe",
   "metadata": {},
   "outputs": [],
   "source": [
    "A = \" Ketika Bora menyemprotkan air ke arah Dodo—anak gajah lainnya—dengan belalainya, ia pun memekik nyaring.\""
   ]
  },
  {
   "cell_type": "code",
   "execution_count": 9,
   "id": "cbad10da-2191-438e-bc79-84890a309dcc",
   "metadata": {},
   "outputs": [
    {
     "data": {
      "text/plain": [
       "str"
      ]
     },
     "execution_count": 9,
     "metadata": {},
     "output_type": "execute_result"
    }
   ],
   "source": [
    "type(A)"
   ]
  },
  {
   "cell_type": "code",
   "execution_count": 10,
   "id": "9b45f2f1-38e0-4808-8931-c4ea7c5ca4b4",
   "metadata": {},
   "outputs": [
    {
     "name": "stdout",
     "output_type": "stream",
     "text": [
      " Ketika Bora menyemprotkan air ke arah Dodo—anak gajah lainnya—dengan belalainya, ia pun memekik nyaring.\n"
     ]
    }
   ],
   "source": [
    "print(A)"
   ]
  },
  {
   "cell_type": "code",
   "execution_count": 11,
   "id": "fdda2765-a381-418f-8559-0a0c1c278ffb",
   "metadata": {},
   "outputs": [
    {
     "name": "stdout",
     "output_type": "stream",
     "text": [
      " Ketika Bora menyemprotkan air ke arah Dodo—anak gajah lainnya—dengan belalainya, ia pun memekik nyaring.\n"
     ]
    }
   ],
   "source": [
    "B = ' Ketika Bora menyemprotkan air ke arah Dodo—anak gajah lainnya—dengan belalainya, ia pun memekik nyaring.'\n",
    "print(B)"
   ]
  },
  {
   "cell_type": "markdown",
   "id": "9d8d6399-5542-497a-8a51-b839b39ef47e",
   "metadata": {},
   "source": [
    "#Boolean: The boolean data type only stores two values. True values represent true statements, and False values represent false statements."
   ]
  },
  {
   "cell_type": "code",
   "execution_count": 12,
   "id": "e63296d5-b35e-453c-b4a6-d261ca03cc11",
   "metadata": {},
   "outputs": [],
   "source": [
    "x = 2\n",
    "y = 5"
   ]
  },
  {
   "cell_type": "code",
   "execution_count": 13,
   "id": "dab8881d-0119-4a60-8580-5c9d328b0759",
   "metadata": {},
   "outputs": [
    {
     "data": {
      "text/plain": [
       "False"
      ]
     },
     "execution_count": 13,
     "metadata": {},
     "output_type": "execute_result"
    }
   ],
   "source": [
    "x > y"
   ]
  },
  {
   "cell_type": "code",
   "execution_count": 14,
   "id": "bb8564b5-29cd-4711-be31-8ab6577f2de5",
   "metadata": {},
   "outputs": [
    {
     "data": {
      "text/plain": [
       "False"
      ]
     },
     "execution_count": 14,
     "metadata": {},
     "output_type": "execute_result"
    }
   ],
   "source": [
    "x == y"
   ]
  },
  {
   "cell_type": "code",
   "execution_count": 15,
   "id": "55c69241-f9e6-43fd-871c-7a89ca60f9e3",
   "metadata": {},
   "outputs": [
    {
     "data": {
      "text/plain": [
       "True"
      ]
     },
     "execution_count": 15,
     "metadata": {},
     "output_type": "execute_result"
    }
   ],
   "source": [
    "x <= y"
   ]
  },
  {
   "cell_type": "code",
   "execution_count": 16,
   "id": "725be3a6-dd7b-4d68-a597-674ad1d82207",
   "metadata": {},
   "outputs": [
    {
     "data": {
      "text/plain": [
       "True"
      ]
     },
     "execution_count": 16,
     "metadata": {},
     "output_type": "execute_result"
    }
   ],
   "source": [
    "x != y"
   ]
  }
 ],
 "metadata": {
  "kernelspec": {
   "display_name": "Python 3 (ipykernel)",
   "language": "python",
   "name": "python3"
  },
  "language_info": {
   "codemirror_mode": {
    "name": "ipython",
    "version": 3
   },
   "file_extension": ".py",
   "mimetype": "text/x-python",
   "name": "python",
   "nbconvert_exporter": "python",
   "pygments_lexer": "ipython3",
   "version": "3.11.7"
  }
 },
 "nbformat": 4,
 "nbformat_minor": 5
}
