{
 "cells": [
  {
   "cell_type": "markdown",
   "id": "c7202343-dead-497c-b73b-ec10f02fd0f4",
   "metadata": {},
   "source": [
    "# Argument Specifier"
   ]
  },
  {
   "cell_type": "markdown",
   "id": "0add9be6-b56e-4265-9080-f7865ef5cf13",
   "metadata": {},
   "source": [
    "The \"%\" operator is used to format a set of variables enclosed in a \"tuple\" (a fixed size list), together with a format string, which contains normal text together with \"argument specifiers\", special symbols:\n",
    "- %s : String (or any object with a string representation, like numbers)\n",
    "- %d : Integers\n",
    "- %f : Floating point numbers"
   ]
  },
  {
   "cell_type": "code",
   "execution_count": 1,
   "id": "c359d59a-5578-458a-b37c-fe10705d05da",
   "metadata": {},
   "outputs": [],
   "source": [
    "a = \"Information System\""
   ]
  },
  {
   "cell_type": "code",
   "execution_count": 2,
   "id": "ba9d4162-66bf-4c38-bdd9-cf24782eaada",
   "metadata": {},
   "outputs": [
    {
     "data": {
      "text/plain": [
       "str"
      ]
     },
     "execution_count": 2,
     "metadata": {},
     "output_type": "execute_result"
    }
   ],
   "source": [
    "type(a)"
   ]
  },
  {
   "cell_type": "code",
   "execution_count": 3,
   "id": "404b53f7-ab74-4168-a9dd-f029ed6cf495",
   "metadata": {},
   "outputs": [],
   "source": [
    "b = 4 "
   ]
  },
  {
   "cell_type": "code",
   "execution_count": 4,
   "id": "3c4d76bf-8b17-4d00-8eaf-45316633feb5",
   "metadata": {},
   "outputs": [
    {
     "data": {
      "text/plain": [
       "int"
      ]
     },
     "execution_count": 4,
     "metadata": {},
     "output_type": "execute_result"
    }
   ],
   "source": [
    "type(b)"
   ]
  },
  {
   "cell_type": "code",
   "execution_count": 5,
   "id": "f54d890a-2a1e-4e3a-8ba4-89d7cf9178ea",
   "metadata": {},
   "outputs": [
    {
     "name": "stdout",
     "output_type": "stream",
     "text": [
      "Information System students must graduate within 4 years of study.\n"
     ]
    }
   ],
   "source": [
    "print(\"%s students must graduate within %d years of study.\" % (a,b))"
   ]
  }
 ],
 "metadata": {
  "kernelspec": {
   "display_name": "Python 3 (ipykernel)",
   "language": "python",
   "name": "python3"
  },
  "language_info": {
   "codemirror_mode": {
    "name": "ipython",
    "version": 3
   },
   "file_extension": ".py",
   "mimetype": "text/x-python",
   "name": "python",
   "nbconvert_exporter": "python",
   "pygments_lexer": "ipython3",
   "version": "3.11.7"
  }
 },
 "nbformat": 4,
 "nbformat_minor": 5
}
